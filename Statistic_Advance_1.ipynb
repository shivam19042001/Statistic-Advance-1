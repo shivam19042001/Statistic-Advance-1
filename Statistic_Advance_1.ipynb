{
  "nbformat": 4,
  "nbformat_minor": 0,
  "metadata": {
    "colab": {
      "provenance": []
    },
    "kernelspec": {
      "name": "python3",
      "display_name": "Python 3"
    },
    "language_info": {
      "name": "python"
    }
  },
  "cells": [
    {
      "cell_type": "code",
      "execution_count": null,
      "metadata": {
        "id": "DLbduAep5LpZ"
      },
      "outputs": [],
      "source": [
        "# 1 What is a random variable in probability theory?\n",
        "\"\"\"\n",
        "A random variable is a value that can change depending on chance. It shows the possible results\n",
        "of something random happening. For example, when you roll a die, you don’t know what number will\n",
        "come up until it lands—that number is a random variable because it depends on luck.\n",
        "\"\"\""
      ]
    },
    {
      "cell_type": "code",
      "execution_count": null,
      "metadata": {
        "id": "Rk2tlBqh5Y4_"
      },
      "outputs": [],
      "source": [
        "#2 What are the types of random variables?\n",
        "\"\"\"\n",
        "There are two main kinds of random variables:\n",
        "\n",
        "Discrete random variables – These have specific, countable values. For example, if you flip a\n",
        "coin several times, the number of heads you get is a discrete random variable because you\n",
        "can count the result (like 0, 1, 2, etc.).\n",
        "\n",
        "Continuous random variables – These can take on any value within a range, even decimals. For\n",
        "example, a person’s height is a continuous random variable because it can be any value\n",
        "like 160.5 cm, 161.2 cm, and so on.\n",
        "\"\"\""
      ]
    },
    {
      "cell_type": "code",
      "execution_count": null,
      "metadata": {
        "id": "0TdUzysR5Y70"
      },
      "outputs": [],
      "source": [
        "#3 What is the difference between discrete and continuous distributions?\n",
        "\"\"\"\n",
        "Discrete distributions are used for discrete random variables, where the possible outcomes can be counted.\n",
        "Examples of this include the binomial distribution (like counting how many times you win in a fixed number\n",
        "of games) and the Poisson distribution (like counting how many calls come into a call center in an hour).\n",
        "\n",
        "Continuous distributions are used for continuous random variables, where the outcomes can be any value\n",
        "within a range. Examples include the normal distribution (like measuring people’s heights) and the uniform\n",
        "distribution (where all values in a range are equally likely).\n",
        "\"\"\""
      ]
    },
    {
      "cell_type": "code",
      "execution_count": null,
      "metadata": {
        "id": "1Nzb_27c5Y_1"
      },
      "outputs": [],
      "source": [
        "#4 What are probability distribution functions (PDF)?\n",
        "\"\"\"\n",
        "A probability distribution function (PDF) shows how likely it is for a random variable\n",
        "to take certain values.\n",
        "\n",
        "For discrete random variables, the PDF gives the exact probability for each possible\n",
        "outcome (like getting a 3 when you roll a die).\n",
        "\n",
        "For continuous random variables, the PDF shows how likely it is that the value falls\n",
        "within a certain range. But it can’t tell the probability of one exact value, because\n",
        "the chance of hitting an exact point is zero — instead, we look at ranges (like the chance\n",
        "that someone’s height is between 160 cm and 165 cm).\n",
        "\"\"\""
      ]
    },
    {
      "cell_type": "code",
      "execution_count": null,
      "metadata": {
        "id": "Fh5N5n8w5ZDp"
      },
      "outputs": [],
      "source": [
        "#5  How do cumulative distribution functions (CDF) differ from probability distribution functions (PDF)?\n",
        "\"\"\"\n",
        "The Cumulative Distribution Function (CDF) is connected to the Probability Distribution\n",
        "Function (PDF), but instead of showing the chance of a specific value, it shows the total\n",
        "chance up to a certain value.\n",
        "\n",
        "So, while the PDF tells you the chance of getting one particular result, the CDF tells\n",
        "you the chance that the result is less than or equal to a certain number. Basically,\n",
        "the CDF adds up the probabilities from the start up to that point.\n",
        "\"\"\""
      ]
    },
    {
      "cell_type": "code",
      "execution_count": null,
      "metadata": {
        "id": "JbxOEL_-5ZHU"
      },
      "outputs": [],
      "source": [
        "#6 What is a discrete uniform distribution?\n",
        "\"\"\"\n",
        "A discrete uniform distribution is a type of distribution where all outcomes\n",
        "are equally likely.\n",
        "\n",
        "For example,\n",
        "\n",
        "1.Flipping a fair coin\n",
        "– Each side (heads or tails) has an equal 50% chance.\n",
        "\n",
        "2.Drawing a card at random from a well-shuffled deck (without jokers)\n",
        "– Each of the 52 cards has an equal chance of being picked.\n",
        "\n",
        "3.Choosing a random day of the week\n",
        "– If you pick a day at random, each of the 7 days (Monday through Sunday)\n",
        "has a 1/7 chance.\n",
        "\"\"\""
      ]
    },
    {
      "cell_type": "code",
      "execution_count": null,
      "metadata": {
        "id": "QD8gBA0w5ZLZ"
      },
      "outputs": [],
      "source": [
        "#7 What are the key properties of a Bernoulli distribution?\n",
        "\"\"\"\n",
        "A Bernoulli distribution is used for situations where there are only two possible\n",
        "outcomes — like success or failure, yes or no, or 1 or 0.\n",
        "\n",
        "Key points:\n",
        "\n",
        "-It’s a discrete distribution (you can count the outcomes).\n",
        "-The chance of success is called p, and the chance of failure is 1 - p.\n",
        "-The average (mean) of the outcomes is p, and the variance (how much it varies)\n",
        "is p(1 - p).\n",
        "\n",
        "An example would be flipping a coin: heads might be success (1), and tails\n",
        "would be failure (0).\n",
        "\"\"\""
      ]
    },
    {
      "cell_type": "code",
      "execution_count": null,
      "metadata": {
        "id": "zNJDaUa75ZPS"
      },
      "outputs": [],
      "source": [
        "#8 What is the binomial distribution, and how is it used in probability?\n",
        "\"\"\"\n",
        "A binomial distribution shows the chance of getting a certain number of successes\n",
        "in a set number of tries, where each try is like a yes or no (success or failure) outcome.\n",
        "\n",
        "Each try (or trial):\n",
        "-Has the same chance of success\n",
        "-Is independent, meaning one trial doesn’t affect another\n",
        "\n",
        "For example, if you flip a fair coin 10 times and count how many times you get heads,\n",
        "that’s a binomial situation — because each flip is independent, and there are\n",
        "two outcomes: heads (success) or tails (failure).\n",
        "\"\"\""
      ]
    },
    {
      "cell_type": "code",
      "execution_count": null,
      "metadata": {
        "id": "5k9LIf_e5ZTm"
      },
      "outputs": [],
      "source": [
        "#9 What is the Poisson distribution and where is it applied?\n",
        "\"\"\"\n",
        "The Poisson distribution is used to predict how many times an event will happen\n",
        "in a set amount of time or space, as long as:\n",
        "\n",
        "-The events happen independently (one doesn’t affect another)\n",
        "-They happen at a steady (constant) rate\n",
        "\n",
        "It’s often used for rare events. For example:\n",
        "\n",
        "-Counting how many car accidents happen at one intersection in a day\n",
        "-Counting how many emails you get in an hour\n",
        "\n",
        "It helps estimate how likely it is to see 0, 1, 2, or more events in that fixed time or area.\n",
        "\"\"\""
      ]
    },
    {
      "cell_type": "code",
      "execution_count": null,
      "metadata": {
        "id": "q2rd9SiW5ZYJ"
      },
      "outputs": [],
      "source": [
        "#10 What is a continuous uniform distribution?\n",
        "\"\"\"\n",
        "A continuous uniform distribution is when any value within a certain range is just as\n",
        "likely to happen as any other.\n",
        "\n",
        "For example, if you choose a random number between 0 and 1, every number in that range has\n",
        "the same chance of being picked — like 0.25, 0.6, or 0.99.\n",
        "\n",
        "On a graph, this distribution looks like a flat rectangle, because the probability is\n",
        "the same across the entire range.\n",
        "\"\"\""
      ]
    },
    {
      "cell_type": "code",
      "execution_count": null,
      "metadata": {
        "id": "SKvMrWpZ5ZcM"
      },
      "outputs": [],
      "source": [
        "#11 What are the characteristics of a normal distribution?\n",
        "\"\"\"\n",
        "A normal distribution is a type of continuous probability distribution that is perfectly\n",
        "balanced (or symmetric) around its average (mean).\n",
        "\n",
        "Key features:\n",
        "\n",
        "->It has a bell-shaped curve.\n",
        "\n",
        "->It’s described using two things: the mean (µ), which tells where the center is, and the\n",
        "standard deviation (σ), which shows how spread out the data is.\n",
        "\n",
        "->Most of the values are close to the mean:\n",
        "\n",
        "  -About 68% of the data is within 1 standard deviation,\n",
        "  -About 95% is within 2 standard deviations,\n",
        "  -And about 99.7% is within 3 standard deviations.\n",
        "\n",
        "An example would be people’s heights — most people are near average height, with fewer\n",
        "people being very short or very tall.\n",
        "\"\"\""
      ]
    },
    {
      "cell_type": "code",
      "execution_count": null,
      "metadata": {
        "id": "wDIkFJaH5Zgd"
      },
      "outputs": [],
      "source": [
        "#12 What is the standard normal distribution, and why is it important?\n",
        "\"\"\"\n",
        "The standard normal distribution is a special kind of normal distribution where:\n",
        "\n",
        "-The mean is 0\n",
        "-The standard deviation is 1\n",
        "\n",
        "It’s useful because it gives us a standard way to compare different normal distributions,\n",
        "no matter what their original mean or spread was.\n",
        "In this distribution, values are called Z-scores, which tell you how far a value is from\n",
        "the mean, measured in standard deviations. For example, a Z-score of 2 means the value is 2\n",
        "standard deviations above the mean.\n",
        "\"\"\""
      ]
    },
    {
      "cell_type": "code",
      "execution_count": null,
      "metadata": {
        "id": "WvzZ96FX5Zkc"
      },
      "outputs": [],
      "source": [
        "#13 What is the Central Limit Theorem (CLT), and why is it critical in statistics?\n",
        "\"\"\"\n",
        "The Central Limit Theorem (CLT) says that if you take a large enough sample, the average (mean)\n",
        "of those samples will form a normal distribution, even if the original data isn’t normally distributed.\n",
        "\n",
        "This is really important because it means we can study a population by using a sample, and\n",
        "still use tools based on the normal distribution — even when the actual data doesn’t follow\n",
        "a normal shape.\n",
        "\"\"\""
      ]
    },
    {
      "cell_type": "code",
      "execution_count": null,
      "metadata": {
        "id": "dFnBeOBi5ZpB"
      },
      "outputs": [],
      "source": [
        "#14  How does the Central Limit Theorem relate to the normal distribution?\n",
        "\"\"\"\n",
        "The Central Limit Theorem (CLT) is connected to the normal distribution because it says that\n",
        "as your sample size gets larger, the average of the samples will start to look like a normal\n",
        "distribution — even if the original data isn't normal.\n",
        "\n",
        "This is why the normal distribution is so important in statistics — it helps us make predictions\n",
        "and decisions about a population, even when we only have sample data.\n",
        "\"\"\""
      ]
    },
    {
      "cell_type": "code",
      "execution_count": null,
      "metadata": {
        "id": "IIrexEQI5ZtP"
      },
      "outputs": [],
      "source": [
        "#15 What is the application of Z statistics in hypothesis testing?\n",
        "\"\"\"\n",
        "In statistics, Z-statistics (or the Z-test) is applied in hypothesis testing to:\n",
        "\n",
        "1.Compare a sample mean to a population mean, when:\n",
        "-The population standard deviation is known\n",
        "-The sample size is large (typically 𝑛≥30)\n",
        "\n",
        "2.Test proportions, like:\n",
        "-Is the proportion of voters supporting a candidate different from 50%?\n",
        "\n",
        "3.Compare two means or two proportions, under certain conditions\n",
        "\"\"\""
      ]
    },
    {
      "cell_type": "code",
      "execution_count": null,
      "metadata": {
        "id": "5BtyI1nK5Zxy"
      },
      "outputs": [],
      "source": [
        "#16  How do you calculate a Z-score, and what does it represent?\n",
        "\"\"\"\n",
        "For a single value (x) from a population:\n",
        "\n",
        "𝑍=(𝑥−𝜇)/𝜎\n",
        "​Where:\n",
        "x = the value you’re evaluating\n",
        "μ = population mean\n",
        "σ = population standard deviation\n",
        "\n",
        "-> What does it represent?\n",
        "-It standardizes a value so it can be compared across different datasets or distributions.\n",
        "\n",
        "-It tells you how unusual or typical a value is.\n",
        "   -Example: A Z-score of +2 means the value is 2 standard deviations above the mean,\n",
        "   which is fairly rare in a normal distribution.\n",
        "\"\"\""
      ]
    },
    {
      "cell_type": "code",
      "execution_count": null,
      "metadata": {
        "id": "uYwly1pX5Z2X"
      },
      "outputs": [],
      "source": [
        "#17 What are point estimates and interval estimates in statistics?\n",
        "\"\"\"\n",
        "--> Point Estimate:\n",
        "A point estimate is a single value used to estimate an unknown population parameter.\n",
        "--Example:\n",
        "If you survey 100 people and find their average height is 165 cm, then 165 cm is your\n",
        "point estimate of the average height of the entire population.\n",
        "\n",
        "\n",
        "--> Interval Estimate:\n",
        "An interval estimate gives a range of values (not just one number) where the population\n",
        "parameter is likely to fall. This range is often called a confidence interval.\n",
        "--Example:\n",
        "Instead of saying the average height is exactly 165 cm, you say:\n",
        "\"I'm 95% confident the average height is between 162 cm and 168 cm.\"\n",
        "\"\"\""
      ]
    },
    {
      "cell_type": "code",
      "execution_count": null,
      "metadata": {
        "id": "8DgXngXe5Z7c"
      },
      "outputs": [],
      "source": [
        "#18 What is the significance of confidence intervals in statistical analysis?\n",
        "\"\"\"\n",
        "Confidence intervals give us a range where we believe the real answer (like the average of\n",
        "a whole population) is likely to be. Instead of just giving one number, it gives a range of\n",
        "possible values, showing how sure we are about our estimate.\n",
        "\n",
        "For example, if we say we have a 95% confidence interval, it means that we're 95% sure the\n",
        "true value falls somewhere within that range. It's like saying, “We’re not 100% certain, but\n",
        "there’s a very high chance the real answer is in this zone.”\n",
        "\"\"\""
      ]
    },
    {
      "cell_type": "code",
      "execution_count": null,
      "metadata": {
        "id": "bi1mC3l25aAA"
      },
      "outputs": [],
      "source": [
        "#19  What is the relationship between a Z-score and a confidence interval?\n",
        "\"\"\"\n",
        "The Z-score is very important when building confidence intervals.\n",
        "\n",
        "For a chosen confidence level (like 95%), the Z-score tells you how far from the mean\n",
        "(in standard deviations) you need to go to cover that level of confidence.\n",
        "\n",
        "We use the Z-score in the formula to find the margin of error — which is how much the\n",
        "estimate could vary. This margin helps us create a range around the sample value,\n",
        "showing where the true population value is likely to fall.\n",
        "\"\"\""
      ]
    },
    {
      "cell_type": "code",
      "execution_count": null,
      "metadata": {
        "id": "rYatC3Kv5aFH"
      },
      "outputs": [],
      "source": [
        "#20 How are Z-scores used to compare different distributions?\n",
        "\"\"\"\n",
        "Z-scores help us compare different data sets by putting them on the same scale.\n",
        "\n",
        "Even if two sets of data have different averages and different spreads, converting\n",
        "them to Z-scores lets us see how far each value is from its own mean.\n",
        "\n",
        "This way, we can easily compare the relative position of values across different\n",
        "groups or situations.\n",
        "\"\"\""
      ]
    },
    {
      "cell_type": "code",
      "execution_count": null,
      "metadata": {
        "id": "3rwxeXQP5aK0"
      },
      "outputs": [],
      "source": [
        "#21 What are the assumptions for applying the Central Limit Theorem?\n",
        "\"\"\"\n",
        "To use the Central Limit Theorem (CLT) properly, a few conditions should be met:\n",
        "\n",
        "-The sample size needs to be fairly large (usually more than 30).\n",
        "\n",
        "-Each sample should be independent — one sample shouldn’t affect another.\n",
        "\n",
        "-All the data should come from the same population.\n",
        "\n",
        "These conditions help ensure the sample mean will follow a normal distribution,\n",
        "even if the original data isn’t normal.\n",
        "\"\"\""
      ]
    },
    {
      "cell_type": "code",
      "execution_count": null,
      "metadata": {
        "id": "plekPyGq5aQq"
      },
      "outputs": [],
      "source": [
        "#22 What is the concept of expected value in a probability distribution?\n",
        "\"\"\"\n",
        "The expected value (or mean) of a probability distribution is what you’d expect\n",
        "to get on average if you repeated an experiment many times.\n",
        "\n",
        "It’s like a weighted average of all possible outcomes, where each outcome is\n",
        "multiplied by how likely it is. This value shows the center of the distribution\n",
        "and gives an idea of the typical result you can expect.\n",
        "\"\"\""
      ]
    },
    {
      "cell_type": "code",
      "execution_count": null,
      "metadata": {
        "id": "audofuvY5aXA"
      },
      "outputs": [],
      "source": [
        "#23  How does a probability distribution relate to the expected outcome of a random variable?\n",
        "\"\"\"\n",
        "A probability distribution shows how likely each outcome is for a random event.\n",
        "\n",
        "The expected value is like a weighted average of all those outcomes — it tells\n",
        "you what result you can expect on average if the event happens many times.\n",
        "\n",
        "It gives a good idea of the value you’d most likely see over the long run.\n",
        "\"\"\""
      ]
    }
  ]
}